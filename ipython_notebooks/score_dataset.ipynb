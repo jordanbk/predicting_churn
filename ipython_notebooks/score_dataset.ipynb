{
  "metadata": {
    "kernelspec": {
      "name": "py-dku-venv-py37",
      "display_name": "Python (env py37)",
      "language": "python"
    },
    "creator": "admin",
    "createdOn": 1684871967164,
    "tags": [],
    "customFields": {},
    "hide_input": false,
    "language_info": {
      "name": "python",
      "version": "3.7.13",
      "mimetype": "text/x-python",
      "codemirror_mode": {
        "name": "ipython",
        "version": 3
      },
      "pygments_lexer": "ipython3",
      "nbconvert_exporter": "python",
      "file_extension": ".py"
    },
    "modifiedBy": "admin"
  },
  "nbformat": 4,
  "nbformat_minor": 1,
  "cells": [
    {
      "execution_count": 0,
      "cell_type": "code",
      "metadata": {},
      "source": [
        "%pylab inline"
      ],
      "outputs": []
    },
    {
      "execution_count": 0,
      "cell_type": "code",
      "metadata": {},
      "source": [
        "import dataiku\nfrom dataiku import pandasutils as pdu\nimport pandas as pd"
      ],
      "outputs": []
    },
    {
      "execution_count": 0,
      "cell_type": "code",
      "metadata": {},
      "source": [
        "from dataikuapi.dss.recipe import PredictionScoringRecipeCreator\nclient \u003d dataiku.api_client()\nproject \u003d client.get_project(\"DKU_CHURN\")\nbuilder \u003d PredictionScoringRecipeCreator(\"my_scoring_recipe\", project)\nbuilder.with_input_model(\"5HExUjQ1\")\nbuilder.with_input(\"unlabeled_customers_prepared\")\nbuilder.with_new_output(\"my_output_dataset\", \"jordan-s3-bucket\")\n\n# Or for a filesystem output connection\n# builder.with_new_output(\"my_output_dataset, \"filesystem_managed\", format_option_id\u003d\"CSV_EXCEL_GZIP\")\n\nnew_recipe \u003d builder.build()"
      ],
      "outputs": []
    },
    {
      "execution_count": 0,
      "cell_type": "code",
      "metadata": {},
      "source": [
        "print(new_recipe)"
      ],
      "outputs": []
    },
    {
      "execution_count": 0,
      "cell_type": "code",
      "metadata": {},
      "source": [
        "import dataiku\nclient \u003d dataiku.api_client()\nproject \u003d client.get_project(\"DKU_CHURN\")\nsm \u003d project.list_saved_models()\nprint(sm)"
      ],
      "outputs": []
    },
    {
      "execution_count": 0,
      "cell_type": "code",
      "metadata": {},
      "source": [
        ""
      ],
      "outputs": []
    }
  ]
}