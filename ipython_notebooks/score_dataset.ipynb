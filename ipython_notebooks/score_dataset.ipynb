{
  "metadata": {
    "kernelspec": {
      "name": "py-dku-venv-py37",
      "display_name": "Python (env py37)",
      "language": "python"
    },
    "creator": "admin",
    "createdOn": 1684871967164,
    "tags": [],
    "customFields": {},
    "hide_input": false,
    "language_info": {
      "name": "python",
      "version": "3.7.13",
      "mimetype": "text/x-python",
      "codemirror_mode": {
        "name": "ipython",
        "version": 3
      },
      "pygments_lexer": "ipython3",
      "nbconvert_exporter": "python",
      "file_extension": ".py"
    },
    "modifiedBy": "admin"
  },
  "nbformat": 4,
  "nbformat_minor": 1,
  "cells": [
    {
      "execution_count": 0,
      "cell_type": "code",
      "metadata": {},
      "source": [
        "%pylab inline"
      ],
      "outputs": []
    },
    {
      "execution_count": 0,
      "cell_type": "code",
      "metadata": {},
      "source": [
        "import dataiku\nfrom dataiku import pandasutils as pdu\nimport pandas as pd"
      ],
      "outputs": []
    },
    {
      "execution_count": 0,
      "cell_type": "code",
      "metadata": {},
      "source": [
        "from dataikuapi.dss.recipe import PredictionScoringRecipeCreator\nclient \u003d dataiku.api_client()\nproject \u003d client.get_project(\"DKU_CHURN\")\nbuilder \u003d PredictionScoringRecipeCreator(\"my_scoring_recipe\", project)\nbuilder.with_input_model(\"5HExUjQ1\")\nbuilder.with_input(\"unlabeled_customers_prepared\")\nbuilder.with_new_output(\"my_output_dataset\", \"jordan-s3-bucket\")\n\n# Or for a filesystem output connection\n# builder.with_new_output(\"my_output_dataset, \"filesystem_managed\", format_option_id\u003d\"CSV_EXCEL_GZIP\")\n\nnew_recipe \u003d builder.build()"
      ],
      "outputs": []
    },
    {
      "execution_count": 0,
      "cell_type": "code",
      "metadata": {},
      "source": [
        "print(new_recipe)"
      ],
      "outputs": []
    },
    {
      "execution_count": 0,
      "cell_type": "code",
      "metadata": {},
      "source": [
        "import dataiku\nclient \u003d dataiku.api_client()\nproject \u003d client.get_project(\"DKU_CHURN\")\nsm \u003d project.list_saved_models()\nprint(sm)"
      ],
      "outputs": []
    },
    {
      "execution_count": 0,
      "cell_type": "code",
      "metadata": {},
      "source": [
        "p \u003d client.get_project(\"DKU_CHURN\")\n\n# Create a new ML Task to predict the variable \"target\" from \"trainset\"\nmltask \u003d p.create_prediction_ml_task(\n    input_dataset\u003d\"unlabeled_customers_prepared\",\n    target_variable\u003d\"my_output_dataset\",\n    ml_backend_type\u003d\u0027py37\u0027, # ML backend to use\n    guess_policy\u003d\u0027DEFAULT\u0027 # Template to use for setting default parameters\n)\n\n# Wait for the ML task to be ready\nmltask.wait_guess_complete()\n\n# Obtain settings, enable GBT, save settings\nsettings \u003d mltask.get_settings()\nsettings.set_algorithm_enabled(\"RANDOM_FOREST_REGRESSION\", True)\nsettings.save()"
      ],
      "outputs": []
    }
  ]
}